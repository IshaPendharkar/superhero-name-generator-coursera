{
  "cells": [
    {
      "cell_type": "markdown",
      "metadata": {
        "id": "21XXWP7Fpt2L"
      },
      "source": [
        "# Superhero (and Supervillain) Name Generator\n",
        "\n",
        "---\n",
        "\n",
        "[Superhero Names Dataset](https://github.com/am1tyadav/superhero)"
      ]
    },
    {
      "cell_type": "markdown",
      "metadata": {
        "id": "H6P0NU5Cpt2R"
      },
      "source": [
        "## Task 2\n",
        "\n",
        "1. Import the data\n",
        "2. Create a tokenizer\n",
        "3. Char to index and Index to char dictionaries"
      ]
    },
    {
      "cell_type": "code",
      "execution_count": 1,
      "metadata": {
        "id": "srULhalZpt2M",
        "colab": {
          "base_uri": "https://localhost:8080/"
        },
        "outputId": "bacfe6b4-f340-4348-bba5-8ae90be5034e"
      },
      "outputs": [
        {
          "output_type": "stream",
          "name": "stdout",
          "text": [
            "Cloning into 'superhero'...\n",
            "remote: Enumerating objects: 8, done.\u001b[K\n",
            "remote: Counting objects: 100% (8/8), done.\u001b[K\n",
            "remote: Compressing objects: 100% (7/7), done.\u001b[K\n",
            "remote: Total 8 (delta 0), reused 4 (delta 0), pack-reused 0\u001b[K\n",
            "Unpacking objects: 100% (8/8), done.\n"
          ]
        }
      ],
      "source": [
        "!git clone https://github.com/am1tyadav/superhero"
      ]
    },
    {
      "cell_type": "code",
      "execution_count": 2,
      "metadata": {
        "id": "uq4CLmsLpt2P",
        "colab": {
          "base_uri": "https://localhost:8080/",
          "height": 35
        },
        "outputId": "d41f240e-2b61-4578-fa17-91b396caaa1f"
      },
      "outputs": [
        {
          "output_type": "execute_result",
          "data": {
            "text/plain": [
              "'jumpa\\t\\ndoctor fate\\t\\nstarlight\\t\\nisildur\\t\\nlasher\\t\\nvarvara\\t\\nthe target\\t\\naxel\\t\\nbattra\\t\\nchangeling\\t\\npyrrh'"
            ],
            "application/vnd.google.colaboratory.intrinsic+json": {
              "type": "string"
            }
          },
          "metadata": {},
          "execution_count": 2
        }
      ],
      "source": [
        "with open(\"superhero/superheroes.txt\",\"r\") as f:\n",
        "  data = f.read()\n",
        "\n",
        "data[:100]"
      ]
    },
    {
      "cell_type": "code",
      "execution_count": 3,
      "metadata": {
        "id": "JqhtLuAHpt2R"
      },
      "outputs": [],
      "source": [
        "import tensorflow as tf"
      ]
    },
    {
      "cell_type": "code",
      "execution_count": 4,
      "metadata": {
        "id": "95Lo1Yqzpt2T"
      },
      "outputs": [],
      "source": [
        "tokenizer = tf.keras.preprocessing.text.Tokenizer(\n",
        "    filters='!\"#$%&()*+,-./:;<=>?@[\\\\]^_`{|}~',\n",
        "    split='\\n',\n",
        ")"
      ]
    },
    {
      "cell_type": "code",
      "execution_count": 5,
      "metadata": {
        "id": "qYfC4sj2pt2V"
      },
      "outputs": [],
      "source": [
        "tokenizer.fit_on_texts(data)"
      ]
    },
    {
      "cell_type": "code",
      "execution_count": 6,
      "metadata": {
        "id": "EO4-dPM6pt2X",
        "colab": {
          "base_uri": "https://localhost:8080/"
        },
        "outputId": "7d8d8501-ee3c-4a61-e461-1bc2f160eb32"
      },
      "outputs": [
        {
          "output_type": "stream",
          "name": "stdout",
          "text": [
            "{1: '\\t', 2: 'a', 3: 'e', 4: 'r', 5: 'o', 6: 'n', 7: 'i', 8: ' ', 9: 't', 10: 's', 11: 'l', 12: 'm', 13: 'h', 14: 'd', 15: 'c', 16: 'u', 17: 'g', 18: 'k', 19: 'b', 20: 'p', 21: 'y', 22: 'w', 23: 'f', 24: 'v', 25: 'j', 26: 'z', 27: 'x', 28: 'q'}\n"
          ]
        }
      ],
      "source": [
        "char_to_index = tokenizer.word_index\n",
        "index_to_char = dict((v, k) for k, v in char_to_index.items())\n",
        "print(index_to_char)"
      ]
    },
    {
      "cell_type": "markdown",
      "metadata": {
        "id": "SMwtIw_Bpt2Z"
      },
      "source": [
        "## Task 3\n",
        "\n",
        "1. Converting between names and sequences"
      ]
    },
    {
      "cell_type": "code",
      "execution_count": 7,
      "metadata": {
        "id": "N7iQLIXzpt2a",
        "colab": {
          "base_uri": "https://localhost:8080/"
        },
        "outputId": "f1fc9a4a-3006-4cc0-f8f7-5f5c0dd07860"
      },
      "outputs": [
        {
          "output_type": "execute_result",
          "data": {
            "text/plain": [
              "['jumpa\\t',\n",
              " 'doctor fate\\t',\n",
              " 'starlight\\t',\n",
              " 'isildur\\t',\n",
              " 'lasher\\t',\n",
              " 'varvara\\t',\n",
              " 'the target\\t',\n",
              " 'axel\\t',\n",
              " 'battra\\t',\n",
              " 'changeling\\t']"
            ]
          },
          "metadata": {},
          "execution_count": 7
        }
      ],
      "source": [
        "names = data.splitlines()\n",
        "names[:10]"
      ]
    },
    {
      "cell_type": "code",
      "execution_count": 8,
      "metadata": {
        "id": "n_-TTfqipt2c",
        "colab": {
          "base_uri": "https://localhost:8080/"
        },
        "outputId": "fc8f9a67-7164-4a3d-8e7b-4a82f461827e"
      },
      "outputs": [
        {
          "output_type": "execute_result",
          "data": {
            "text/plain": [
              "[[25], [16], [12], [20], [2], [1]]"
            ]
          },
          "metadata": {},
          "execution_count": 8
        }
      ],
      "source": [
        "tokenizer.texts_to_sequences(names[0])"
      ]
    },
    {
      "cell_type": "code",
      "execution_count": 9,
      "metadata": {
        "id": "P6IsKH1Upt2e"
      },
      "outputs": [],
      "source": [
        "def name_to_seq(name):\n",
        "  return [tokenizer.texts_to_sequences(c)[0][0] for c in name]"
      ]
    },
    {
      "cell_type": "code",
      "execution_count": 10,
      "metadata": {
        "id": "TuLUiMP3pt2g",
        "colab": {
          "base_uri": "https://localhost:8080/"
        },
        "outputId": "06b70824-4e7b-4ae4-9b9e-aa16cc122f4f"
      },
      "outputs": [
        {
          "output_type": "execute_result",
          "data": {
            "text/plain": [
              "[25, 16, 12, 20, 2, 1]"
            ]
          },
          "metadata": {},
          "execution_count": 10
        }
      ],
      "source": [
        "name_to_seq(names[0])"
      ]
    },
    {
      "cell_type": "code",
      "execution_count": 11,
      "metadata": {
        "id": "yFUYhimKpt2h"
      },
      "outputs": [],
      "source": [
        "def seq_to_name(seq):\n",
        "  return ''.join([index_to_char[i] for i in seq if i != 0])"
      ]
    },
    {
      "cell_type": "code",
      "execution_count": 12,
      "metadata": {
        "id": "ROhCqmhLpt2k",
        "colab": {
          "base_uri": "https://localhost:8080/",
          "height": 35
        },
        "outputId": "f8ba10c0-5424-4156-c60b-0bc6b7a4c468"
      },
      "outputs": [
        {
          "output_type": "execute_result",
          "data": {
            "text/plain": [
              "'jumpa\\t'"
            ],
            "application/vnd.google.colaboratory.intrinsic+json": {
              "type": "string"
            }
          },
          "metadata": {},
          "execution_count": 12
        }
      ],
      "source": [
        "seq_to_name(name_to_seq(names[0]))"
      ]
    },
    {
      "cell_type": "markdown",
      "metadata": {
        "id": "uCbAzsNjpt2m"
      },
      "source": [
        "## Task 4\n",
        "\n",
        "1. Creating sequences\n",
        "2. Padding all sequences"
      ]
    },
    {
      "cell_type": "code",
      "execution_count": 13,
      "metadata": {
        "id": "zstNn-0dpt2m"
      },
      "outputs": [],
      "source": [
        "sequences = []\n",
        "\n",
        "for name in names:\n",
        "  seq = name_to_seq(name)\n",
        "  if len(seq) >= 2:\n",
        "                    sequences += [seq[:i] for i in range(2, len(seq) + 1)]"
      ]
    },
    {
      "cell_type": "code",
      "execution_count": 14,
      "metadata": {
        "id": "BjRTMysvpt2o",
        "colab": {
          "base_uri": "https://localhost:8080/"
        },
        "outputId": "b9086536-ca84-4ad3-b3b5-bf9a39f945f0"
      },
      "outputs": [
        {
          "output_type": "execute_result",
          "data": {
            "text/plain": [
              "[[25, 16],\n",
              " [25, 16, 12],\n",
              " [25, 16, 12, 20],\n",
              " [25, 16, 12, 20, 2],\n",
              " [25, 16, 12, 20, 2, 1],\n",
              " [14, 5],\n",
              " [14, 5, 15],\n",
              " [14, 5, 15, 9],\n",
              " [14, 5, 15, 9, 5],\n",
              " [14, 5, 15, 9, 5, 4]]"
            ]
          },
          "metadata": {},
          "execution_count": 14
        }
      ],
      "source": [
        "sequences[:10]"
      ]
    },
    {
      "cell_type": "code",
      "execution_count": 15,
      "metadata": {
        "id": "SR68pu2tpt2q",
        "colab": {
          "base_uri": "https://localhost:8080/"
        },
        "outputId": "e71f0915-3246-4f06-e516-43e9c5350a96"
      },
      "outputs": [
        {
          "output_type": "stream",
          "name": "stdout",
          "text": [
            "33\n"
          ]
        }
      ],
      "source": [
        "max_len = max([len(x) for x in sequences])\n",
        "print(max_len)"
      ]
    },
    {
      "cell_type": "code",
      "execution_count": 16,
      "metadata": {
        "id": "h_1BtWO7pt2r",
        "colab": {
          "base_uri": "https://localhost:8080/"
        },
        "outputId": "9dad913c-1d02-4583-e7c9-7ad7259c99ab"
      },
      "outputs": [
        {
          "output_type": "stream",
          "name": "stdout",
          "text": [
            "[ 0  0  0  0  0  0  0  0  0  0  0  0  0  0  0  0  0  0  0  0  0  0  0  0\n",
            "  0  0  0  0  0  0  0 25 16]\n"
          ]
        }
      ],
      "source": [
        "padded_sequences = []\n",
        "padded_sequences = tf.keras.preprocessing.sequence.pad_sequences(\n",
        "    sequences, padding='pre',\n",
        "    maxlen = max_len\n",
        ")\n",
        "print(padded_sequences[0])"
      ]
    },
    {
      "cell_type": "code",
      "execution_count": 17,
      "metadata": {
        "id": "sPlrLRpSpt2t",
        "colab": {
          "base_uri": "https://localhost:8080/"
        },
        "outputId": "5924e9df-f35a-49ce-aa14-4f0ce6361efd"
      },
      "outputs": [
        {
          "output_type": "execute_result",
          "data": {
            "text/plain": [
              "(88279, 33)"
            ]
          },
          "metadata": {},
          "execution_count": 17
        }
      ],
      "source": [
        "padded_sequences.shape"
      ]
    },
    {
      "cell_type": "markdown",
      "metadata": {
        "id": "DR_UPOboWcF4"
      },
      "source": [
        "## Task 5: Creating Training and Validation Sets\n",
        "\n",
        "1. Creating training and validation sets"
      ]
    },
    {
      "cell_type": "code",
      "execution_count": 18,
      "metadata": {
        "id": "BE4BIeSnpt2v",
        "colab": {
          "base_uri": "https://localhost:8080/"
        },
        "outputId": "865b321f-c0f3-4725-ac7c-315f1c3c85fc"
      },
      "outputs": [
        {
          "output_type": "stream",
          "name": "stdout",
          "text": [
            "(88279, 32) (88279,)\n"
          ]
        }
      ],
      "source": [
        "x, y = padded_sequences[:, :-1], padded_sequences[:, -1]\n",
        "print(x.shape, y.shape)"
      ]
    },
    {
      "cell_type": "code",
      "execution_count": 19,
      "metadata": {
        "id": "L2hXfWLoWcF4",
        "colab": {
          "base_uri": "https://localhost:8080/"
        },
        "outputId": "054770be-247e-4786-f153-e4c771c8a8e3"
      },
      "outputs": [
        {
          "output_type": "stream",
          "name": "stdout",
          "text": [
            "(66209, 32) (22070, 32)\n",
            "(66209,) (22070,)\n"
          ]
        }
      ],
      "source": [
        "from sklearn.model_selection import train_test_split\n",
        "x_train, x_test, y_train, y_test = train_test_split(x, y)\n",
        "\n",
        "print(x_train.shape, x_test.shape)\n",
        "print(y_train.shape, y_test.shape)"
      ]
    },
    {
      "cell_type": "code",
      "execution_count": 20,
      "metadata": {
        "id": "cgqRZtqnpt2x",
        "colab": {
          "base_uri": "https://localhost:8080/"
        },
        "outputId": "0426f920-edda-4d46-9fec-07df972cbe61"
      },
      "outputs": [
        {
          "output_type": "stream",
          "name": "stdout",
          "text": [
            "29\n"
          ]
        }
      ],
      "source": [
        "from tensorflow.python.ops.script_ops import numpy_function\n",
        "num_chars = len(char_to_index.keys()) + 1\n",
        "print(num_chars)"
      ]
    },
    {
      "cell_type": "markdown",
      "metadata": {
        "id": "S96A8786WcF5"
      },
      "source": [
        "## Task 6: Creating the Model"
      ]
    },
    {
      "cell_type": "code",
      "execution_count": 24,
      "metadata": {
        "id": "Q2Hj3omoWcF5",
        "colab": {
          "base_uri": "https://localhost:8080/"
        },
        "outputId": "5e77d584-4f92-49dc-e357-c01b68df2b59"
      },
      "outputs": [
        {
          "output_type": "stream",
          "name": "stdout",
          "text": [
            "Model: \"sequential\"\n",
            "_________________________________________________________________\n",
            " Layer (type)                Output Shape              Param #   \n",
            "=================================================================\n",
            " embedding_3 (Embedding)     (None, 32, 8)             232       \n",
            "                                                                 \n",
            " conv1d_1 (Conv1D)           (None, 32, 64)            2624      \n",
            "                                                                 \n",
            " max_pooling1d (MaxPooling1D  (None, 16, 64)           0         \n",
            " )                                                               \n",
            "                                                                 \n",
            " lstm (LSTM)                 (None, 32)                12416     \n",
            "                                                                 \n",
            " dense (Dense)               (None, 29)                957       \n",
            "                                                                 \n",
            "=================================================================\n",
            "Total params: 16,229\n",
            "Trainable params: 16,229\n",
            "Non-trainable params: 0\n",
            "_________________________________________________________________\n"
          ]
        }
      ],
      "source": [
        "from tensorflow.keras.models import Sequential\n",
        "import tensorflow.keras.layers\n",
        "from tensorflow.keras.layers import *\n",
        "from keras.layers.convolutional import Conv1D    \n",
        "from keras.layers import Bidirectional, Dense\n",
        "\n",
        "model = Sequential([\n",
        "                    Embedding(num_chars, 8, input_length = max_len-1),\n",
        "                    Conv1D(64, 5, strides=1, activation='tanh', padding='causal'),\n",
        "                    MaxPool1D(2),\n",
        "                    LSTM(32),\n",
        "                    Dense(num_chars, activation = 'softmax')\n",
        "])\n",
        "\n",
        "model.compile(\n",
        "    loss='sparse_categorical_crossentropy',\n",
        "    optimizer = 'adam',\n",
        "    metrics=['accuracy']\n",
        ")\n",
        "\n",
        "model.summary()"
      ]
    },
    {
      "cell_type": "code",
      "source": [
        "!pip install embedding"
      ],
      "metadata": {
        "colab": {
          "base_uri": "https://localhost:8080/"
        },
        "id": "DDlkNwirnm1f",
        "outputId": "b77b7cde-78fb-4dd7-f4cc-9e9650b1be0c"
      },
      "execution_count": 25,
      "outputs": [
        {
          "output_type": "stream",
          "name": "stdout",
          "text": [
            "Looking in indexes: https://pypi.org/simple, https://us-python.pkg.dev/colab-wheels/public/simple/\n",
            "\u001b[31mERROR: Could not find a version that satisfies the requirement embedding (from versions: none)\u001b[0m\n",
            "\u001b[31mERROR: No matching distribution found for embedding\u001b[0m\n"
          ]
        }
      ]
    },
    {
      "cell_type": "markdown",
      "metadata": {
        "id": "TMXYgFByWcF5"
      },
      "source": [
        "## Task 7: Training the Model"
      ]
    },
    {
      "cell_type": "code",
      "execution_count": 26,
      "metadata": {
        "id": "j0Ssl4qupt22",
        "colab": {
          "base_uri": "https://localhost:8080/"
        },
        "outputId": "a09f503b-5fc8-46c7-81f3-02344991642b"
      },
      "outputs": [
        {
          "output_type": "stream",
          "name": "stdout",
          "text": [
            "Epoch 1/50\n",
            "2070/2070 - 27s - loss: 2.7556 - accuracy: 0.1869 - val_loss: 2.5788 - val_accuracy: 0.2272 - 27s/epoch - 13ms/step\n",
            "Epoch 2/50\n",
            "2070/2070 - 12s - loss: 2.5388 - accuracy: 0.2332 - val_loss: 2.4955 - val_accuracy: 0.2397 - 12s/epoch - 6ms/step\n",
            "Epoch 3/50\n",
            "2070/2070 - 13s - loss: 2.4643 - accuracy: 0.2541 - val_loss: 2.4343 - val_accuracy: 0.2638 - 13s/epoch - 6ms/step\n",
            "Epoch 4/50\n",
            "2070/2070 - 12s - loss: 2.4133 - accuracy: 0.2676 - val_loss: 2.4053 - val_accuracy: 0.2694 - 12s/epoch - 6ms/step\n",
            "Epoch 5/50\n",
            "2070/2070 - 17s - loss: 2.3762 - accuracy: 0.2791 - val_loss: 2.3791 - val_accuracy: 0.2813 - 17s/epoch - 8ms/step\n",
            "Epoch 6/50\n",
            "2070/2070 - 15s - loss: 2.3459 - accuracy: 0.2885 - val_loss: 2.3584 - val_accuracy: 0.2893 - 15s/epoch - 7ms/step\n",
            "Epoch 7/50\n",
            "2070/2070 - 15s - loss: 2.3192 - accuracy: 0.2959 - val_loss: 2.3353 - val_accuracy: 0.2971 - 15s/epoch - 7ms/step\n",
            "Epoch 8/50\n",
            "2070/2070 - 14s - loss: 2.2950 - accuracy: 0.3045 - val_loss: 2.3156 - val_accuracy: 0.2978 - 14s/epoch - 7ms/step\n",
            "Epoch 9/50\n",
            "2070/2070 - 15s - loss: 2.2732 - accuracy: 0.3109 - val_loss: 2.3045 - val_accuracy: 0.3013 - 15s/epoch - 7ms/step\n",
            "Epoch 10/50\n",
            "2070/2070 - 15s - loss: 2.2530 - accuracy: 0.3168 - val_loss: 2.2882 - val_accuracy: 0.3086 - 15s/epoch - 7ms/step\n",
            "Epoch 11/50\n",
            "2070/2070 - 17s - loss: 2.2349 - accuracy: 0.3231 - val_loss: 2.2815 - val_accuracy: 0.3116 - 17s/epoch - 8ms/step\n",
            "Epoch 12/50\n",
            "2070/2070 - 13s - loss: 2.2179 - accuracy: 0.3272 - val_loss: 2.2685 - val_accuracy: 0.3187 - 13s/epoch - 6ms/step\n",
            "Epoch 13/50\n",
            "2070/2070 - 15s - loss: 2.2026 - accuracy: 0.3325 - val_loss: 2.2558 - val_accuracy: 0.3212 - 15s/epoch - 7ms/step\n",
            "Epoch 14/50\n",
            "2070/2070 - 14s - loss: 2.1882 - accuracy: 0.3373 - val_loss: 2.2548 - val_accuracy: 0.3206 - 14s/epoch - 7ms/step\n",
            "Epoch 15/50\n",
            "2070/2070 - 14s - loss: 2.1746 - accuracy: 0.3425 - val_loss: 2.2425 - val_accuracy: 0.3266 - 14s/epoch - 7ms/step\n",
            "Epoch 16/50\n",
            "2070/2070 - 13s - loss: 2.1621 - accuracy: 0.3452 - val_loss: 2.2383 - val_accuracy: 0.3300 - 13s/epoch - 6ms/step\n",
            "Epoch 17/50\n",
            "2070/2070 - 12s - loss: 2.1503 - accuracy: 0.3496 - val_loss: 2.2340 - val_accuracy: 0.3284 - 12s/epoch - 6ms/step\n",
            "Epoch 18/50\n",
            "2070/2070 - 12s - loss: 2.1382 - accuracy: 0.3532 - val_loss: 2.2275 - val_accuracy: 0.3319 - 12s/epoch - 6ms/step\n",
            "Epoch 19/50\n",
            "2070/2070 - 12s - loss: 2.1281 - accuracy: 0.3572 - val_loss: 2.2252 - val_accuracy: 0.3382 - 12s/epoch - 6ms/step\n",
            "Epoch 20/50\n",
            "2070/2070 - 15s - loss: 2.1189 - accuracy: 0.3599 - val_loss: 2.2251 - val_accuracy: 0.3396 - 15s/epoch - 7ms/step\n",
            "Epoch 21/50\n",
            "2070/2070 - 13s - loss: 2.1097 - accuracy: 0.3607 - val_loss: 2.2160 - val_accuracy: 0.3423 - 13s/epoch - 6ms/step\n",
            "Epoch 22/50\n",
            "2070/2070 - 14s - loss: 2.1003 - accuracy: 0.3644 - val_loss: 2.2186 - val_accuracy: 0.3396 - 14s/epoch - 7ms/step\n",
            "Epoch 23/50\n",
            "2070/2070 - 12s - loss: 2.0921 - accuracy: 0.3686 - val_loss: 2.2142 - val_accuracy: 0.3419 - 12s/epoch - 6ms/step\n",
            "Epoch 24/50\n",
            "2070/2070 - 13s - loss: 2.0835 - accuracy: 0.3712 - val_loss: 2.2100 - val_accuracy: 0.3420 - 13s/epoch - 6ms/step\n"
          ]
        }
      ],
      "source": [
        "h = model.fit(\n",
        "    x_train, y_train, \n",
        "    validation_data = (x_test, y_test),\n",
        "    epochs = 50, verbose = 2,\n",
        "    callbacks = [\n",
        "                 tf.keras.callbacks.EarlyStopping(monitor = 'val_accuracy', patience = 3)\n",
        "    ]\n",
        ")"
      ]
    },
    {
      "cell_type": "code",
      "source": [
        "from matplotlib import pyplot as plt\n",
        "\n",
        "epochs_ran = len(h.history['loss'])\n",
        "\n",
        "plt.plot(range(0, epochs_ran), h.history['val_accuracy'], label = 'Validation')\n",
        "plt.plot(range(0, epochs_ran), h.history['accuracy'], label = 'Training')\n",
        "plt.legend()\n",
        "plt.show()"
      ],
      "metadata": {
        "colab": {
          "base_uri": "https://localhost:8080/",
          "height": 265
        },
        "id": "PiN0hKznhF6k",
        "outputId": "be17a2d7-f430-41c4-b26a-9bf65d9fa6a7"
      },
      "execution_count": 28,
      "outputs": [
        {
          "output_type": "display_data",
          "data": {
            "text/plain": [
              "<Figure size 432x288 with 1 Axes>"
            ],
            "image/png": "[encoded data removed]"
          },
          "metadata": {
            "needs_background": "light"
          }
        }
      ]
    },
    {
      "cell_type": "markdown",
      "metadata": {
        "id": "fKLhPdcaWcF5"
      },
      "source": [
        "## Task 8: Generate Names!"
      ]
    },
    {
      "cell_type": "code",
      "execution_count": 32,
      "metadata": {
        "id": "9f50aTRcpt24"
      },
      "outputs": [],
      "source": [
        "def generate_names(seed):\n",
        "    for i in range(0,40):\n",
        "        seq = name_to_seq(seed)\n",
        "        padded = tf.keras.preprocessing.sequence.pad_sequences([seq], padding = 'pre',\n",
        "                                                               maxlen = max_len-1,\n",
        "                                                               truncating = 'pre')\n",
        "\n",
        "        pred = model.predict(padded)[0]\n",
        "        pred_char = index_to_char[tf.argmax(pred).numpy()]\n",
        "        seed += pred_char\n",
        "\n",
        "        if pred_char == '\\t':\n",
        "            break\n",
        "    print(seed)"
      ]
    },
    {
      "cell_type": "code",
      "execution_count": 33,
      "metadata": {
        "id": "faQ0FInlpt26",
        "colab": {
          "base_uri": "https://localhost:8080/"
        },
        "outputId": "6fe75b0b-587e-48f1-90b4-11544b3b0c0c"
      },
      "outputs": [
        {
          "output_type": "stream",
          "name": "stdout",
          "text": [
            "xena silver\t\n"
          ]
        }
      ],
      "source": [
        "generate_names('x')"
      ]
    },
    {
      "cell_type": "code",
      "source": [
        ""
      ],
      "metadata": {
        "id": "MZtT0MTojWxo"
      },
      "execution_count": null,
      "outputs": []
    }
  ],
  "metadata": {
    "accelerator": "GPU",
    "colab": {
      "collapsed_sections": [],
      "name": "Superhero Name Generator.ipynb",
      "provenance": []
    },
    "kernelspec": {
      "display_name": "Python 3",
      "language": "python",
      "name": "python3"
    },
    "language_info": {
      "codemirror_mode": {
        "name": "ipython",
        "version": 3
      },
      "file_extension": ".py",
      "mimetype": "text/x-python",
      "name": "python",
      "nbconvert_exporter": "python",
      "pygments_lexer": "ipython3",
      "version": "3.8.3"
    }
  },
  "nbformat": 4,
  "nbformat_minor": 0
}